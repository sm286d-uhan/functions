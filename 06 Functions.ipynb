{
 "cells": [
  {
   "cell_type": "markdown",
   "metadata": {
    "hide_cell": true
   },
   "source": [
    "<span class='note'><i>Make me look good.</i> Click on the cell below and press <kbd>Ctrl</kbd>+<kbd>Enter</kbd>.</span>"
   ]
  },
  {
   "cell_type": "code",
   "execution_count": 1,
   "metadata": {
    "hide_cell": true
   },
   "outputs": [
    {
     "data": {
      "text/html": [
       "<link href='http://fonts.googleapis.com/css?family=Lora:400,700,400i,700i' rel='stylesheet'>\n",
       "<link href='https://fonts.googleapis.com/css?family=Lato:300,400,700,300i,400i,700i' rel='stylesheet'>\n",
       "<link href='https://fonts.googleapis.com/css?family=Inconsolata:400' rel='stylesheet'>\n",
       "<link rel=\"stylesheet\" href=\"http://maxcdn.bootstrapcdn.com/font-awesome/4.3.0/css/font-awesome.min.css\">\n",
       "<style>\n",
       "    h1, h2, h3, h4, h5 {\n",
       "        font-family: 'Lato', sans-serif;\n",
       "    }\n",
       "    h5 {\n",
       "        font-style: normal;\n",
       "    }\n",
       "    kbd {\n",
       "        font-family: Lato, serif;\n",
       "    }\n",
       "    hr {\n",
       "      border-width: 2px;\n",
       "      border-color: #a9a9a9;\n",
       "    }\n",
       "    .cite {\n",
       "        font-size: 85%;\n",
       "        text-align: right;\n",
       "        margin-top: 10px;\n",
       "    }\n",
       "    .note {\n",
       "        font-family: Lora, serif;\n",
       "        font-size: 10pt;\n",
       "        font-weight: 400;\n",
       "        margin-top: 0;\n",
       "        margin-bottom: 0;\n",
       "    }\n",
       "    h5.prehead {\n",
       "        font-family: Lato, serif;\n",
       "        font-style: normal;\n",
       "        font-size: 13pt;\n",
       "        font-weight: 300;\n",
       "        margin-bottom: 15px;\n",
       "        margin-top: 30px;\n",
       "    }\n",
       "    h5.lesson {\n",
       "        font-family: Lato, serif;\n",
       "        font-weight: 400;\n",
       "        font-size: 15pt;\n",
       "        font-style: normal;\n",
       "        margin-top: 0px;\n",
       "        margin-bottom: 5px;\n",
       "    }\n",
       "    h1.lesson_title {\n",
       "        font-family: Lato, serif;\n",
       "        font-weight: 300;\n",
       "        font-size: 32pt;\n",
       "        line-height: 110%;\n",
       "        color:#CD2305;\n",
       "        margin-top: 0px;\n",
       "        margin-bottom: 15px;\n",
       "    }\n",
       "    div.cell{\n",
       "        max-width: 960px;\n",
       "        margin-left: auto;\n",
       "        margin-right: auto;\n",
       "    }\n",
       "    div.text_cell_render {\n",
       "        font-family: Lora, serif;\n",
       "        line-height: 160%;\n",
       "        font-size: 11pt;\n",
       "    }\n",
       "    .rendered_html pre, .rendered_html code  {\n",
       "        font-family: Inconsolata, monospace !important;\n",
       "        font-size: 11pt;\n",
       "    }\n",
       "    div.CodeMirror, div.output_area pre, div.prompt {\n",
       "        font-family: Inconsolata, monospace !important;\n",
       "        font-size: 110%;\n",
       "    }\n",
       "    .rendered_html ul li {\n",
       "        margin-top: 0.75em;\n",
       "        margin-bottom: 0.75em;\n",
       "    }\n",
       "    .rendered_html ul li ul li {\n",
       "        margin-top: 0.5em;\n",
       "        margin-bottom: 0.5em;\n",
       "    }\n",
       "    .rred {\n",
       "        color: #a00000;\n",
       "    }\n",
       "</style>\n",
       "<script>\n",
       "    MathJax.Hub.Config({\n",
       "                        TeX: {\n",
       "                           extensions: [\"AMSmath.js\"]\n",
       "                           },\n",
       "                tex2jax: {\n",
       "                    inlineMath: [ ['$','$'], [\"\\\\(\",\"\\\\)\"] ],\n",
       "                    displayMath: [ ['$$','$$'], [\"\\\\[\",\"\\\\]\"] ]\n",
       "                },\n",
       "                displayAlign: 'center', // Change this to 'center' to center equations.\n",
       "                \"HTML-CSS\": {\n",
       "                    styles: {'.MathJax_Display': {\"margin\": \"0.75em 0\"}}\n",
       "                }\n",
       "        });\n",
       "</script>\n"
      ],
      "text/plain": [
       "<IPython.core.display.HTML object>"
      ]
     },
     "execution_count": 1,
     "metadata": {},
     "output_type": "execute_result"
    }
   ],
   "source": [
    "from IPython.core.display import HTML\n",
    "HTML(open('css/custom.css', 'r').read())"
   ]
  },
  {
   "cell_type": "markdown",
   "metadata": {
    "hide_cell": true
   },
   "source": [
    "<h5 class='prehead'>SM286D &middot; Introduction to Applied Mathematics with Python &middot; Spring 2020 &middot; Uhan</h5>\n",
    "\n",
    "<h5 class='lesson'>Lesson 6.</h5>\n",
    "\n",
    "<h1 class='lesson_title'>Functions</h1>"
   ]
  },
  {
   "cell_type": "markdown",
   "metadata": {},
   "source": [
    "## This lesson..."
   ]
  },
  {
   "cell_type": "markdown",
   "metadata": {},
   "source": [
    "- Functions\n",
    "- Anonymous functions\n",
    "- Importing from a Python code module"
   ]
  },
  {
   "cell_type": "markdown",
   "metadata": {},
   "source": [
    "---"
   ]
  },
  {
   "cell_type": "markdown",
   "metadata": {},
   "source": [
    "## Functions"
   ]
  },
  {
   "cell_type": "markdown",
   "metadata": {},
   "source": [
    "- A __function__ is a block of code designed to do one specific job.\n",
    "\n",
    "- To perform a particular task we've defined in a function, we __call__ the function.\n",
    "\n",
    "- A function takes inputs, performs some tasks, and then outputs something:\n",
    "\n",
    "<img width=600 src=\"img/function_block.png\">\n",
    "\n",
    "- The inputs to a function are known as __arguments__ or __parameters__.\n",
    "\n",
    "- A function can directly display its output, or return a value or set of values. (More on this shortly.)"
   ]
  },
  {
   "cell_type": "markdown",
   "metadata": {},
   "source": [
    "- Why might we want to use functions? Let's consider the following example."
   ]
  },
  {
   "cell_type": "markdown",
   "metadata": {},
   "source": [
    "__Example.__ The common field cricket chirps in relation to the current temperature. Adding 40 to the number of times a cricket chirps in a minute, then dividing by 4, gives an estimate of the temperature in Fahrenheit. If a cricket chirps 50 times in 15 seconds, compute the estimated temperature."
   ]
  },
  {
   "cell_type": "markdown",
   "metadata": {},
   "source": [
    "- Here is some code that will answer this example:"
   ]
  },
  {
   "cell_type": "code",
   "execution_count": 2,
   "metadata": {},
   "outputs": [
    {
     "name": "stdout",
     "output_type": "stream",
     "text": [
      "60.0\n"
     ]
    }
   ],
   "source": [
    "# The number of times the cricket chirps\n",
    "n_chirps = 50\n",
    "\n",
    "# The number of seconds it took the cricket to chirp n_chirps times\n",
    "time = 15\n",
    "\n",
    "# Determine the number of chirps per minute\n",
    "chirps_per_minute = n_chirps * (60 / time)\n",
    "\n",
    "# Estimated temperature (in degrees Fahrenheit)\n",
    "est_temp = (chirps_per_minute + 40) / 4\n",
    "\n",
    "# Print the answer\n",
    "print(est_temp)"
   ]
  },
  {
   "cell_type": "markdown",
   "metadata": {},
   "source": [
    "- What if we want to determine how the estimated temperature changes as we change the number of chirps?\n",
    "\n",
    "- One way we could answer this type of question would be to \"package\" the code we wrote above inside a function.\n",
    "\n",
    "- We can take the code above and convert into a function as follows:"
   ]
  },
  {
   "cell_type": "code",
   "execution_count": 3,
   "metadata": {},
   "outputs": [],
   "source": [
    "def estimate_temperature(n_chirps):\n",
    "    \"\"\"Estimate temperature based on number of chirps in 15 seconds\"\"\"\n",
    "    # The number of seconds it took the cricket to chirp n_chirps times\n",
    "    time = 15\n",
    "\n",
    "    # Determine the number of chirps per minute\n",
    "    chirps_per_minute = n_chirps * (60 / time)\n",
    "\n",
    "    # Estimated temperature (in degrees Fahrenheit)\n",
    "    est_temp = (chirps_per_minute + 40) / 4\n",
    "\n",
    "    # Print the answer\n",
    "    print(est_temp)"
   ]
  },
  {
   "cell_type": "markdown",
   "metadata": {},
   "source": [
    "- Now we can estimate the temperature if there are 100 chirps in 15 seconds instead:"
   ]
  },
  {
   "cell_type": "code",
   "execution_count": 4,
   "metadata": {},
   "outputs": [
    {
     "name": "stdout",
     "output_type": "stream",
     "text": [
      "110.0\n"
     ]
    }
   ],
   "source": [
    "estimate_temperature(100)"
   ]
  },
  {
   "cell_type": "markdown",
   "metadata": {},
   "source": [
    "- What if we wanted to convert this number into degrees Celsius?\n",
    "\n",
    "- The way we wrote the function, the estimated temperature is simply printed to the screen, instead of stored somewhere in memory.\n",
    "\n",
    "- Instead of printing the estimated temperature, we can have the function __return__ the value so that we can store it in a variable, like this:"
   ]
  },
  {
   "cell_type": "code",
   "execution_count": 5,
   "metadata": {},
   "outputs": [],
   "source": [
    "def estimate_temperature(n_chirps):\n",
    "    \"\"\"Estimate temperature based on number of chirps in 15 seconds\"\"\"\n",
    "    # The number of seconds it took the cricket to chirp n_chirps times\n",
    "    time = 15\n",
    "\n",
    "    # Determine the number of chirps per minute\n",
    "    chirps_per_minute = n_chirps * (60 / time)\n",
    "\n",
    "    # Estimated temperature (in degrees Fahrenheit)\n",
    "    est_temp = (chirps_per_minute + 40) / 4\n",
    "\n",
    "    # Return the answer\n",
    "    return est_temp"
   ]
  },
  {
   "cell_type": "markdown",
   "metadata": {},
   "source": [
    "- Now, we can capture the output of this function into a variable, and use the value of the variable any way we want, like this:"
   ]
  },
  {
   "cell_type": "code",
   "execution_count": 6,
   "metadata": {},
   "outputs": [
    {
     "name": "stdout",
     "output_type": "stream",
     "text": [
      "Estimated temperature in Celsius: 43.333333333333336\n"
     ]
    }
   ],
   "source": [
    "# Get estimated temperature in Fahrenheit\n",
    "est_temp_faren = estimate_temperature(100)\n",
    "\n",
    "# Convert estimated temperature to Celsius\n",
    "est_temp_celsius = (est_temp_faren - 32) * 5 / 9\n",
    "\n",
    "# Print estimated temperature in Celsius\n",
    "print(f\"Estimated temperature in Celsius: {est_temp_celsius}\")"
   ]
  },
  {
   "cell_type": "markdown",
   "metadata": {},
   "source": [
    "### Docstrings"
   ]
  },
  {
   "cell_type": "markdown",
   "metadata": {},
   "source": [
    "- What's up with the text between triple quotes?\n",
    "\n",
    "```python\n",
    "\"\"\"Estimate temperature based on number of chirps in 15 seconds\"\"\"\n",
    "```\n",
    "\n",
    "- When placed right below a `def` statement, such code is known as a __docstring__.\n",
    "\n",
    "- If a user wants to more information about a function you've written, they can use `help()` with the name of the function to see the docstring:"
   ]
  },
  {
   "cell_type": "code",
   "execution_count": 7,
   "metadata": {},
   "outputs": [
    {
     "name": "stdout",
     "output_type": "stream",
     "text": [
      "Help on function estimate_temperature in module __main__:\n",
      "\n",
      "estimate_temperature(n_chirps)\n",
      "    Estimate temperature based on number of chirps in 15 seconds\n",
      "\n"
     ]
    }
   ],
   "source": [
    "help(estimate_temperature)"
   ]
  },
  {
   "cell_type": "markdown",
   "metadata": {},
   "source": [
    "---"
   ]
  },
  {
   "cell_type": "markdown",
   "metadata": {},
   "source": [
    "## Anonymous Functions"
   ]
  },
  {
   "cell_type": "markdown",
   "metadata": {},
   "source": [
    "- __Anonymous functions__ give us another way to define (short) functions.\n",
    "\n",
    "- The code below defines a function `square` in the normal way."
   ]
  },
  {
   "cell_type": "code",
   "execution_count": 8,
   "metadata": {},
   "outputs": [
    {
     "name": "stdout",
     "output_type": "stream",
     "text": [
      "16\n"
     ]
    }
   ],
   "source": [
    "def square(x):\n",
    "    return x**2\n",
    "\n",
    "print(square(4))"
   ]
  },
  {
   "cell_type": "markdown",
   "metadata": {},
   "source": [
    "- The code below defines an anonymous function that does the same thing:"
   ]
  },
  {
   "cell_type": "code",
   "execution_count": 9,
   "metadata": {},
   "outputs": [
    {
     "data": {
      "text/plain": [
       "16"
      ]
     },
     "execution_count": 9,
     "metadata": {},
     "output_type": "execute_result"
    }
   ],
   "source": [
    "square_anon = lambda x: x**2\n",
    "square_anon(4)"
   ]
  },
  {
   "cell_type": "markdown",
   "metadata": {},
   "source": [
    "- Note the use of the keyword `lambda` and **not** `def`.  \n",
    "    - In Python, anonymous functions are usually called __lambda functions__.\n",
    "\n",
    "- After the keyword `lambda` comes the argument(s) for the anonymous function.  \n",
    "\n",
    "- After the colon comes the expression to be evaluated by the anonymous function.\n",
    "\n",
    "- Anonymous functions can have any number of arguments, but only one expression.\n",
    "\n",
    "- __Rule of thumb.__ <span class=\"rred\">You probably do <strong>not</strong> want to use an anonymous function.</span> Only very rarely it makes sense to use one. However, you should know how they work, since you'll probably encounter them when you read code in the wild."
   ]
  },
  {
   "cell_type": "markdown",
   "metadata": {},
   "source": [
    "---"
   ]
  },
  {
   "cell_type": "markdown",
   "metadata": {},
   "source": [
    "## Importing from a Python module"
   ]
  },
  {
   "cell_type": "markdown",
   "metadata": {},
   "source": [
    "- A __module__ is a file consisting of Python code &mdash; in particular, functions.\n",
    "\n",
    "- Modules help you organize your code when your programs get larger.\n",
    "\n",
    "- They also help you easily reuse code you've written before.\n",
    "\n",
    "- We've already used modules here and there: Python packages, like Matplotlib, consist of modules."
   ]
  },
  {
   "cell_type": "markdown",
   "metadata": {},
   "source": [
    "- Let's take a look at a simple module.\n",
    "\n",
    "- In the same folder as this notebook, you should have the file `mymodule.py`. What's in that file?\n",
    "\n",
    "- To import the function `my_print()` from the module `mymodule`, we can write:"
   ]
  },
  {
   "cell_type": "code",
   "execution_count": 10,
   "metadata": {},
   "outputs": [],
   "source": [
    "import mymodule as mm"
   ]
  },
  {
   "cell_type": "markdown",
   "metadata": {},
   "source": [
    "- `as mm` imports the `mymodule` module using an alias of `mm`.  \n",
    "\n",
    "- Using aliases when importing modules is a good idea:\n",
    "    - This prevents \"pollution\" of the **namespace**. [See here for more details.](https://code.tutsplus.com/tutorials/what-are-python-namespaces-and-why-are-they-needed--cms-28598).\n",
    "    - It can save keystrokes as well: `mm` is shorter than `mymodule`. "
   ]
  },
  {
   "cell_type": "markdown",
   "metadata": {},
   "source": [
    "- So, to use `my_print()` from `mymodule`:"
   ]
  },
  {
   "cell_type": "code",
   "execution_count": 11,
   "metadata": {},
   "outputs": [
    {
     "name": "stdout",
     "output_type": "stream",
     "text": [
      "Nelson\n"
     ]
    }
   ],
   "source": [
    "mm.my_print('Nelson')"
   ]
  },
  {
   "cell_type": "markdown",
   "metadata": {},
   "source": [
    "---"
   ]
  },
  {
   "cell_type": "markdown",
   "metadata": {},
   "source": [
    "## Classwork &mdash; on your own!"
   ]
  },
  {
   "cell_type": "markdown",
   "metadata": {},
   "source": [
    "__Problem 1.__ (PCC 8-2: Favorite Book) Write a function called `favorite_book()` that accepts one parameter, `title`. The function should print a message, such as \n",
    "\n",
    "```\n",
    "One of my favorite books is Alice in Wonderland.\n",
    "```\n",
    "\n",
    "Call the function, making sure to include a book title as an argument in the function call."
   ]
  },
  {
   "cell_type": "code",
   "execution_count": 12,
   "metadata": {},
   "outputs": [
    {
     "name": "stdout",
     "output_type": "stream",
     "text": [
      "One of my favorite books is A Gentleman in Moscow.\n"
     ]
    }
   ],
   "source": [
    "def favorite_book(title):\n",
    "    \"\"\"Prints a sentence about the input title.\"\"\"\n",
    "    print(f\"One of my favorite books is {title}.\")\n",
    "    \n",
    "# Call the function, using a book title as an argument\n",
    "favorite_book(\"A Gentleman in Moscow\")"
   ]
  },
  {
   "cell_type": "markdown",
   "metadata": {},
   "source": [
    "__Problem 2.__ (PCC 8-5: Cities) Write a function called `describe_city()` that accepts the name of a city and its country. The function should print a simple sentence, such as \n",
    "\n",
    "```\n",
    "Reykjavik is in Iceland.\n",
    "```\n",
    "\n",
    "Give the parameter for the country a default value. Call your function for three different cities, at least one of which is not in the default country."
   ]
  },
  {
   "cell_type": "code",
   "execution_count": 13,
   "metadata": {},
   "outputs": [
    {
     "name": "stdout",
     "output_type": "stream",
     "text": [
      "Toronto is in Canada.\n",
      "London is in the United Kingdom.\n",
      "Annapolis is in the United States of America.\n"
     ]
    }
   ],
   "source": [
    "def describe_city(city, country=\"the United States of America\"):\n",
    "    \"\"\"Prints a sentence about the input city and country.\"\"\"\n",
    "    print(f\"{city} is in {country}.\")\n",
    "    \n",
    "# Call the function on three different city/country combinations\n",
    "describe_city(\"Toronto\", \"Canada\")\n",
    "describe_city(\"London\", \"the United Kingdom\")\n",
    "describe_city(\"Annapolis\")"
   ]
  },
  {
   "cell_type": "markdown",
   "metadata": {},
   "source": [
    "__Problem 3.__ (PCC 8-7: Album) Write a function called `make_album()` that builds a dictionary describing a music album. The function should take in an artist name and an album title, and it should return a dictionary containing these two pieces of information. Use the function to make three dictionaries representing different ablums. Print each return value to show that the dictionaries are storing the album information correctly."
   ]
  },
  {
   "cell_type": "code",
   "execution_count": 14,
   "metadata": {},
   "outputs": [
    {
     "name": "stdout",
     "output_type": "stream",
     "text": [
      "{'artist name': 'Post Malone', 'album title': 'Circles'}\n",
      "{'artist name': 'The Weeknd', 'album title': 'Blinding Lights'}\n",
      "{'artist name': 'Billie Eilish', 'album title': 'Bad Guy'}\n"
     ]
    }
   ],
   "source": [
    "def make_album(artist_name, album_title):\n",
    "    \"\"\"Return dictionary of information about an album.\"\"\"\n",
    "    \n",
    "    # Create dictionary for album\n",
    "    album = {}\n",
    "    album['artist name'] = artist_name\n",
    "    album['album title'] = album_title\n",
    "    \n",
    "    # Return the dictionary\n",
    "    return album\n",
    "\n",
    "# Create dictionaries for 3 albums using the function defined above\n",
    "album_1 = make_album('Post Malone', 'Circles')\n",
    "album_2 = make_album('The Weeknd', 'Blinding Lights')\n",
    "album_3 = make_album('Billie Eilish', 'Bad Guy')\n",
    "\n",
    "# Print the dictionaries\n",
    "print(album_1)\n",
    "print(album_2)\n",
    "print(album_3)"
   ]
  },
  {
   "cell_type": "markdown",
   "metadata": {},
   "source": [
    "__Problem 4.__ The `floor` function from the `numpy` module takes a decimal number and returns the greatest integer less than or equal to the number. For example, `np.floor(27.1)` returns `27`, `np.floor(-2.1)` returns `-3`, and `np.floor(12)` returns `12`. \n",
    "\n",
    "A number `k` is an integer if and only if `np.floor(k)` returns `k`. A number $d$ is a square if and only if $d = n^2$ for some _integer_ $n$.\n",
    "\n",
    "One way to check to see if a number is a square is to check to see if its square root is an integer. So, to check that 49 is an integer we would if\n",
    "\n",
    "```\n",
    "np.floor(49**(1/2)) == 49**(1/2)\n",
    "```\n",
    "\n",
    "- First, import the `numpy` module as `np`.\n",
    "- Using the `floor` function from `numpy`, write a function `is_square` that takes as input a single number $n$ and returns `True` if $n$ is a square and `False` otherwise.  \n",
    "- Check if your function works correctly by printing the value of `is_square(9)` and `is_square(10)`."
   ]
  },
  {
   "cell_type": "code",
   "execution_count": 15,
   "metadata": {},
   "outputs": [
    {
     "name": "stdout",
     "output_type": "stream",
     "text": [
      "is_square(9) returns True.\n",
      "is_square(10) returns False.\n"
     ]
    }
   ],
   "source": [
    "# Import numpy\n",
    "import numpy as np\n",
    "\n",
    "def is_square(n):\n",
    "    \"\"\"Checks if n is square. Returns True/False.\"\"\"\n",
    "    if np.floor(n**(1/2)) == n**(1/2):\n",
    "        return True\n",
    "    else:\n",
    "        return False\n",
    "    \n",
    "# Check if the function works correctly.\n",
    "print(f\"is_square(9) returns {is_square(9)}.\")\n",
    "print(f\"is_square(10) returns {is_square(10)}.\")"
   ]
  },
  {
   "cell_type": "markdown",
   "metadata": {},
   "source": [
    "__Problem 5.__  We saw the Fibonacci numbers in Problem 8 of Lesson 2. Recall that the Fibonacci numbers are defined in the following way. The first and second Fibonacci numbers $F_1$ and $F_2$ are both equal to 1. The following Fibonacci numbers are defined according to the rule \n",
    "\\begin{equation*}\n",
    "F_{n} = F_{n-1} + F_{n-2}, \\text{for } n \\ge 3.\n",
    "\\end{equation*}\n",
    "\n",
    "Write a function `fib` that takes the number $n$ as input and returns the $n^\\text{th}$ Fibonacci number $F_n$, using the following instructions:\n",
    "- You should use an `if` statement with three cases: $n=1$, $n=2$, and $n \\geq 3$. \n",
    "- In the $n \\geq 3$ case your return value should be expressed in terms of $F_i$'s for $i$ less than $n$. \n",
    "\n",
    "Test your function: `fib(10)` should return 55. \n",
    "\n",
    "<div style=\"font-size:90%;line-height:1.4;margin-top:3ex\">\n",
    "<i>Note.</i> It turns out that this way of computing the Fibonacci numbers is incredibly slow, compared to just making a list, like we did in Problem 8 of Lesson 2. Using a list, we can compute the first 100 Fibonacci numbers pretty quickly, but just computing <code>fib(100)</code> as defined in this problem will eventually crash your machine (it will run out of memory). Why do you think there such a big difference?\n",
    "</div>"
   ]
  },
  {
   "cell_type": "code",
   "execution_count": 16,
   "metadata": {},
   "outputs": [
    {
     "name": "stdout",
     "output_type": "stream",
     "text": [
      "The tenth Fibonacci number is 55.\n"
     ]
    }
   ],
   "source": [
    "def fib(n):\n",
    "    \"\"\"Returns the nth Fibonacci number (for relatively small n)\"\"\"\n",
    "    if n == 1: \n",
    "        return 1\n",
    "    elif n == 2: \n",
    "        return 1\n",
    "    else: \n",
    "        return fib(n - 1) + fib(n - 2)\n",
    "\n",
    "# Test the function by printing the 10th Fibonacci number\n",
    "print(f\"The tenth Fibonacci number is {fib(10)}.\")"
   ]
  },
  {
   "cell_type": "markdown",
   "metadata": {},
   "source": [
    "__Problem 6.__ Use an anonymous function declaration to define the function `orderlist` that takes three input numbers `x`, `y`, and `z`, and returns `True` if $x < y < z$ or $x > y > z$, and `False` otherwise.\n",
    "\n",
    "Test your `orderlist` function on the following triplets: (1, 2, 6), (5, 3, 2), (1, 4, 3)."
   ]
  },
  {
   "cell_type": "code",
   "execution_count": 17,
   "metadata": {},
   "outputs": [
    {
     "name": "stdout",
     "output_type": "stream",
     "text": [
      "orderlist(1, 2, 6) returns True.\n",
      "orderlist(5, 3, 2) returns True.\n",
      "orderlist(1, 4, 3) returns False.\n"
     ]
    }
   ],
   "source": [
    "# Define function with anonymous function declaration\n",
    "orderlist = lambda x, y, z: (x < y and y < z) or (x > y and y > z)\n",
    "\n",
    "# Can also do this instead:\n",
    "# orderlist = lambda x, y, z : (x < y < z) or (x > y > z)\n",
    "\n",
    "# Test the function\n",
    "print(f\"orderlist(1, 2, 6) returns {orderlist(1, 2, 6)}.\")\n",
    "print(f\"orderlist(5, 3, 2) returns {orderlist(5, 3, 2)}.\")\n",
    "print(f\"orderlist(1, 4, 3) returns {orderlist(1, 4, 3)}.\")"
   ]
  },
  {
   "cell_type": "markdown",
   "metadata": {},
   "source": [
    "__Problem 7.__ The code below defines a function `midnum()`. What does this code do? What are the possible input and output values of the function? Is the rule correct? Does it work for all midshipmen in our class? Check it on your own alpha number! "
   ]
  },
  {
   "cell_type": "code",
   "execution_count": 18,
   "metadata": {},
   "outputs": [],
   "source": [
    "def midnum(alpha):\n",
    "    \"\"\"I'm not going to tell you what this code does.\"\"\"\n",
    "    if (alpha - 220000) % 6 == 0:\n",
    "        print(f\"The alpha number {alpha} is a valid midshipman alpha number.\")"
   ]
  },
  {
   "cell_type": "code",
   "execution_count": 19,
   "metadata": {
    "scrolled": true
   },
   "outputs": [
    {
     "name": "stdout",
     "output_type": "stream",
     "text": [
      "The alpha number 222466 is a valid midshipman alpha number.\n"
     ]
    }
   ],
   "source": [
    "# Test midnum on your alpha number here\n",
    "midnum(222466)"
   ]
  },
  {
   "cell_type": "markdown",
   "metadata": {},
   "source": [
    "_Write your notes here. Double-click to edit._\n",
    "\n",
    "The rule works for most midshipmen in the class of 2022 but may not work for international students or readmits - they get different alpha numbers."
   ]
  },
  {
   "cell_type": "markdown",
   "metadata": {},
   "source": [
    "__Problem 8.__ Let's get some experience with creating our own Python module.\n",
    "\n",
    "From the Jupyter file browser, create a text file named `midnum.py` in the same directory as this notebook. At the top of the text file, place the `midnum` function defined above. Now modify the docstring to accurately reflect what the function does. Also in the docstring, describe the function's arguments and its output. Add comments to the function's code describing its logic. Your file should look something like this:\n",
    "\n",
    "```python\n",
    "def midnum(alpha):\n",
    "    \"\"\"\n",
    "    ...\n",
    "    \n",
    "    Arguments:\n",
    "        alpha: ...\n",
    "        \n",
    "    Output:\n",
    "        Does not return a value. Prints ...\n",
    "    \"\"\"\n",
    "   \n",
    "    # Check if ...\n",
    "    if (alpha - 220000) % 6 == 0:\n",
    "        print(f\"The alpha number {alpha:d} is a valid midshipman alpha. \\n\")\n",
    "```\n",
    "\n",
    "Import your `midnum` function from the file `midnum.py`.  Make sure that `midnum.py` is in the same folder on your computer as this Jupyter notebook.  Then test the function on a valid alpha number."
   ]
  },
  {
   "cell_type": "code",
   "execution_count": 20,
   "metadata": {},
   "outputs": [
    {
     "name": "stdout",
     "output_type": "stream",
     "text": [
      "The alpha number 226024 is a valid midshipman alpha number.\n"
     ]
    }
   ],
   "source": [
    "import midnum as mn\n",
    "mn.midnum(226024)"
   ]
  }
 ],
 "metadata": {
  "kernelspec": {
   "display_name": "Python 3",
   "language": "python",
   "name": "python3"
  },
  "language_info": {
   "codemirror_mode": {
    "name": "ipython",
    "version": 3
   },
   "file_extension": ".py",
   "mimetype": "text/x-python",
   "name": "python",
   "nbconvert_exporter": "python",
   "pygments_lexer": "ipython3",
   "version": "3.6.4"
  }
 },
 "nbformat": 4,
 "nbformat_minor": 2
}
